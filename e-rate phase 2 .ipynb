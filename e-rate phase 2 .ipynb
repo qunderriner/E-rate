{
 "cells": [
  {
   "cell_type": "code",
   "execution_count": 16,
   "metadata": {},
   "outputs": [
    {
     "name": "stdout",
     "output_type": "stream",
     "text": [
      "DetailedReport.csv\r\n",
      "DetailedReportNY.csv\r\n",
      "DetailedReport_CA.csv\r\n",
      "E-rate_Open_Competitive_Bidding__Consultants__FCC_Form_470_and_Related_Information_.csv\r\n",
      "E-rate_Open_Competitive_Bidding__Services_Requested__FCC_Form_470_and_Related_Information_.csv\r\n",
      "Funding Year 2018 5.29.19DetailedReport (15).csv\r\n",
      "README.md\r\n",
      "StandardReport.csv\r\n",
      "\u001b[34mdata\u001b[m\u001b[m/\r\n",
      "e-rate-data-wrangle.ipynb\r\n",
      "e-rate.ipynb\r\n",
      "final_V1\r\n",
      "final_plus_Consult\r\n",
      "final_plus_Consults.csv\r\n",
      "new_consult_blank\r\n",
      "small_for_use.csv\r\n",
      "to_csv\r\n"
     ]
    }
   ],
   "source": [
    "ls"
   ]
  },
  {
   "cell_type": "code",
   "execution_count": 3,
   "metadata": {},
   "outputs": [],
   "source": [
    "import pandas as pd\n",
    "import numpy as np"
   ]
  },
  {
   "cell_type": "code",
   "execution_count": 6,
   "metadata": {},
   "outputs": [],
   "source": [
    "small_data = pd.read_csv(\"small_for_use.csv\")"
   ]
  },
  {
   "cell_type": "code",
   "execution_count": 7,
   "metadata": {},
   "outputs": [
    {
     "name": "stderr",
     "output_type": "stream",
     "text": [
      "/Users/quinnunderriner/anaconda3/lib/python3.7/site-packages/IPython/core/interactiveshell.py:2785: DtypeWarning: Columns (61,65,66,69,70) have mixed types. Specify dtype option on import or set low_memory=False.\n",
      "  interactivity=interactivity, compiler=compiler, result=result)\n"
     ]
    }
   ],
   "source": [
    "big_data = pd.read_csv(\"final_plus_Consults.csv\")"
   ]
  },
  {
   "cell_type": "code",
   "execution_count": 17,
   "metadata": {},
   "outputs": [
    {
     "name": "stderr",
     "output_type": "stream",
     "text": [
      "/Users/quinnunderriner/anaconda3/lib/python3.7/site-packages/IPython/core/interactiveshell.py:2785: DtypeWarning: Columns (61,65,66,69,70,76,78,80,81,82,84,85) have mixed types. Specify dtype option on import or set low_memory=False.\n",
      "  interactivity=interactivity, compiler=compiler, result=result)\n"
     ]
    }
   ],
   "source": [
    "biggest_data = pd.read_csv(\"new_consult_blank\")"
   ]
  },
  {
   "cell_type": "code",
   "execution_count": 18,
   "metadata": {},
   "outputs": [],
   "source": [
    "sub_important = ['Application Number','Orig Funding Request','Cmtd Funding Request', \"Consulting Firm's Name\",\"Consulting Firm's Email\", \"Applicant Type\", 'Applicant City', 'Applicant State',\"Orig Discount\", 'Cmtd Discount', \"Service Type\",'Function'] #full dataset above, preliminarily guess at important columns here \n",
    "\n",
    "biggest_data = biggest_data[sub_important]\n",
    "biggest_data[\"Orig Funding Request\"] = biggest_data[\"Orig Funding Request\"].apply(lambda x: x.strip('$')).apply(lambda x: x.replace(',', '')).astype(float).astype(int)\n",
    "biggest_data[\"Cmtd Funding Request\"] = biggest_data[\"Cmtd Funding Request\"].apply(lambda x: x.strip('$')).apply(lambda x: x.replace(',', '')).astype(float).astype(int)\n",
    "biggest_data[\"funding_gap\"] = biggest_data[\"Orig Funding Request\"] - biggest_data[\"Cmtd Funding Request\"] \n",
    "\n"
   ]
  },
  {
   "cell_type": "code",
   "execution_count": 19,
   "metadata": {},
   "outputs": [
    {
     "data": {
      "text/plain": [
       "66633"
      ]
     },
     "execution_count": 19,
     "metadata": {},
     "output_type": "execute_result"
    }
   ],
   "source": [
    "biggest_data[\"Consulting Firm's Name\"].isna().sum()\n",
    "#currently everyone in the dataset has a consultant "
   ]
  },
  {
   "cell_type": "code",
   "execution_count": 20,
   "metadata": {},
   "outputs": [],
   "source": [
    "biggest_data.to_csv(\"final_output_useme\")"
   ]
  },
  {
   "cell_type": "code",
   "execution_count": 22,
   "metadata": {},
   "outputs": [
    {
     "data": {
      "text/plain": [
       "'/Users/quinnunderriner/Desktop/e-rate'"
      ]
     },
     "execution_count": 22,
     "metadata": {},
     "output_type": "execute_result"
    }
   ],
   "source": [
    "pwd"
   ]
  }
 ],
 "metadata": {
  "kernelspec": {
   "display_name": "Python 3",
   "language": "python",
   "name": "python3"
  },
  "language_info": {
   "codemirror_mode": {
    "name": "ipython",
    "version": 3
   },
   "file_extension": ".py",
   "mimetype": "text/x-python",
   "name": "python",
   "nbconvert_exporter": "python",
   "pygments_lexer": "ipython3",
   "version": "3.7.2"
  }
 },
 "nbformat": 4,
 "nbformat_minor": 2
}
