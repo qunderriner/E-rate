{
 "cells": [
  {
   "cell_type": "code",
   "execution_count": 2,
   "metadata": {},
   "outputs": [],
   "source": [
    "import pandas as pd\n",
    "#data from year 2017, which is the latest year that will have complete data "
   ]
  },
  {
   "cell_type": "code",
   "execution_count": 37,
   "metadata": {},
   "outputs": [
    {
     "name": "stdout",
     "output_type": "stream",
     "text": [
      "DetailedReport (1)_NY.csv\r\n",
      "DetailedReport.csv\r\n",
      "DetailedReport_CA.csv\r\n",
      "E-rate_Open_Competitive_Bidding__Services_Requested__FCC_Form_470_and_Related_Information_.csv\r\n",
      "Funding Year 2018 5.29.19DetailedReport (15).csv\r\n",
      "README.md\r\n",
      "StandardReport.csv\r\n",
      "e-rate.ipynb\r\n",
      "final_V1\r\n",
      "to_csv\r\n"
     ]
    }
   ],
   "source": [
    "ls"
   ]
  },
  {
   "cell_type": "code",
   "execution_count": null,
   "metadata": {},
   "outputs": [],
   "source": []
  },
  {
   "cell_type": "code",
   "execution_count": 16,
   "metadata": {},
   "outputs": [],
   "source": [
    "data_1 = pd.read_csv(\"DetailedReport.csv\", encoding = 'unicode_escape')\n"
   ]
  },
  {
   "cell_type": "code",
   "execution_count": 17,
   "metadata": {},
   "outputs": [],
   "source": [
    "data_2 = pd.read_csv(\"DetailedReport (1)_NY.csv\", encoding = 'unicode_escape')"
   ]
  },
  {
   "cell_type": "code",
   "execution_count": 18,
   "metadata": {},
   "outputs": [
    {
     "name": "stderr",
     "output_type": "stream",
     "text": [
      "/Users/quinnunderriner/anaconda3/lib/python3.7/site-packages/IPython/core/interactiveshell.py:2785: DtypeWarning: Columns (26) have mixed types. Specify dtype option on import or set low_memory=False.\n",
      "  interactivity=interactivity, compiler=compiler, result=result)\n"
     ]
    }
   ],
   "source": [
    "data_3 = pd.read_csv(\"DetailedReport_CA.csv\", encoding = 'unicode_escape')"
   ]
  },
  {
   "cell_type": "code",
   "execution_count": 19,
   "metadata": {},
   "outputs": [],
   "source": [
    "data_mid_merge = data_1.append(data_2)"
   ]
  },
  {
   "cell_type": "code",
   "execution_count": 20,
   "metadata": {},
   "outputs": [],
   "source": [
    "data_full_merge = data_mid_merge.append(data_3)"
   ]
  },
  {
   "cell_type": "code",
   "execution_count": 21,
   "metadata": {},
   "outputs": [],
   "source": [
    "cols = data_full_merge.columns.to_list()"
   ]
  },
  {
   "cell_type": "code",
   "execution_count": 22,
   "metadata": {
    "scrolled": true
   },
   "outputs": [
    {
     "name": "stdout",
     "output_type": "stream",
     "text": [
      "Establishing FCC Form 470 Number 4322\n",
      "Establishing FCC Form 470 Status 4322\n",
      "User Entered Establishing FCC Form 470 Number 18436\n",
      "Applicant Street Address 2 21845\n",
      "State LEA Code 19484\n",
      "State School Code 19672\n",
      "Library Locale Code  22128\n",
      "Library FSCS Key 22249\n",
      "Library Square Footage 21960\n",
      "Library FSCS SEQ  22317\n",
      "471 Consultant Registration Number 4764\n",
      "471 Consulting Firm Name 4764\n",
      "486 Service Start Date 2586\n",
      "Contract Award Date 8673\n",
      "Remaining Contract Extensions 18941\n",
      "Date User Generated FCDL 3095\n",
      "FCDL Comment for 471 Application 6686\n",
      "FCDL Comment for FRN 1014\n",
      "PC Wave Number 18717\n",
      "Revised FCDL Date 18717\n",
      "Post Commitment Rationale 18717\n",
      "RFCDL Comment 21664\n",
      "Total Authorized Disbursement 5792\n"
     ]
    }
   ],
   "source": [
    "list_a = []\n",
    "for i in cols:\n",
    "    num_null = data_full_merge[i].isna().sum() \n",
    "    if num_null > 1000:\n",
    "        list_a.append(i)\n",
    "        print (i, num_null)\n",
    "list_a = list_a[1:] #because dont want to remove application number "
   ]
  },
  {
   "cell_type": "code",
   "execution_count": 24,
   "metadata": {},
   "outputs": [],
   "source": [
    "data_full_merge = data_full_merge.drop(list_a, axis=1) "
   ]
  },
  {
   "cell_type": "code",
   "execution_count": 25,
   "metadata": {},
   "outputs": [],
   "source": [
    "data_full_merge = data_full_merge.dropna()"
   ]
  },
  {
   "cell_type": "code",
   "execution_count": 26,
   "metadata": {},
   "outputs": [
    {
     "data": {
      "text/plain": [
       "2       170048708\n",
       "3       170052726\n",
       "4       170053616\n",
       "5       170053040\n",
       "6       170053018\n",
       "7       170054246\n",
       "8       170064923\n",
       "9       170064923\n",
       "10      170060350\n",
       "11      170060350\n",
       "12      170060350\n",
       "13      170060350\n",
       "16      170047585\n",
       "17      170060350\n",
       "19      160015312\n",
       "20      160000929\n",
       "21      170053056\n",
       "22      170071899\n",
       "23      170056962\n",
       "24      170056650\n",
       "25      170066829\n",
       "27      170050516\n",
       "28      160027566\n",
       "30      170072622\n",
       "31      170072622\n",
       "36      160012842\n",
       "40      170058036\n",
       "41      170053614\n",
       "42      170051447\n",
       "43      170056650\n",
       "          ...    \n",
       "9876    170063442\n",
       "9877    170049290\n",
       "9878    170063442\n",
       "9879    170078023\n",
       "9880    170079758\n",
       "9881    170052636\n",
       "9882    170052636\n",
       "9883    170078046\n",
       "9884    170078046\n",
       "9885    170075586\n",
       "9886    160032533\n",
       "9888    170055620\n",
       "9894    170069619\n",
       "9895    170075586\n",
       "9897    170067626\n",
       "9898    170061672\n",
       "9919    170049737\n",
       "9922    170076213\n",
       "9923    170066113\n",
       "9924    170075729\n",
       "9932    170070971\n",
       "9933    170075586\n",
       "9934    170063442\n",
       "9935    170063442\n",
       "9936    170071548\n",
       "9937    170058853\n",
       "9938    170063442\n",
       "9939    170063442\n",
       "9940    160031102\n",
       "9941    170076105\n",
       "Name: Application Number, Length: 17343, dtype: int64"
      ]
     },
     "execution_count": 26,
     "metadata": {},
     "output_type": "execute_result"
    }
   ],
   "source": [
    "data_full_merge = data_full_merge.rename(index=str, columns={\"Establishing FCC Form 470 Number\": \"Application Number\"})\n",
    "data_full_merge[\"Application Number\"].astype(int)"
   ]
  },
  {
   "cell_type": "code",
   "execution_count": 27,
   "metadata": {},
   "outputs": [],
   "source": [
    "other_data = pd.read_csv(\"E-rate_Open_Competitive_Bidding__Services_Requested__FCC_Form_470_and_Related_Information_.csv\")"
   ]
  },
  {
   "cell_type": "code",
   "execution_count": 28,
   "metadata": {},
   "outputs": [],
   "source": [
    "data_full_merge[\"Application Number\"] = data_full_merge[\"Application Number\"].astype(int)"
   ]
  },
  {
   "cell_type": "code",
   "execution_count": 29,
   "metadata": {},
   "outputs": [],
   "source": [
    "final = data_full_merge.merge(other_data, on=\"Application Number\", how=\"inner\")"
   ]
  },
  {
   "cell_type": "code",
   "execution_count": 31,
   "metadata": {},
   "outputs": [],
   "source": [
    "final.to_csv(\"to_csv\")"
   ]
  },
  {
   "cell_type": "code",
   "execution_count": 38,
   "metadata": {},
   "outputs": [],
   "source": [
    "consult = pd.read_csv(\"E-rate_Open_Competitive_Bidding__Consultants__FCC_Form_470_and_Related_Information_.csv\")"
   ]
  },
  {
   "cell_type": "code",
   "execution_count": 46,
   "metadata": {},
   "outputs": [],
   "source": [
    "filter_2017 = consult[\"Funding Year\"]==2017\n",
    "consult_2017 = consult[filter_2017]"
   ]
  },
  {
   "cell_type": "code",
   "execution_count": 47,
   "metadata": {},
   "outputs": [],
   "source": [
    "final_plus_consultants = final.merge(consult_2017, on=\"Application Number\", how=\"inner\")"
   ]
  },
  {
   "cell_type": "code",
   "execution_count": 58,
   "metadata": {},
   "outputs": [
    {
     "data": {
      "text/plain": [
       "array(['No', 'Yes'], dtype=object)"
      ]
     },
     "execution_count": 58,
     "metadata": {},
     "output_type": "execute_result"
    }
   ],
   "source": [
    "final_plus_consultants['Maintenance & Technical Support'].unique()"
   ]
  },
  {
   "cell_type": "code",
   "execution_count": 49,
   "metadata": {},
   "outputs": [
    {
     "data": {
      "text/plain": [
       "Index(['FRN', 'FRN Nickname', 'FRN Status', '471 Application Number',\n",
       "       '471 Nickname', '471 Application Status', '471 Review Status',\n",
       "       'Application Number', 'BEN', 'Billed Entity Name', 'Applicant Type',\n",
       "       'Applicant Street Address 1', 'Applicant City', 'Applicant State',\n",
       "       'Applicant Zip Code', '471 Contact Name', '471 Contact E-mail',\n",
       "       'BEN Urban/Rural Status', 'BEN Account Administrator',\n",
       "       'BEN Account Administrator Email', 'Service Provider Name', 'SPIN',\n",
       "       'SPAC Filed?', 'Fund Year', 'Contract Exp or Svc End Date',\n",
       "       'Last Date to Invoice', 'Orig R Monthly Cost', 'Cmtd R Monthly Cost',\n",
       "       'Orig R Ineligible Cost', 'Cmtd R Ineligible Cost',\n",
       "       'Orig R Eligible Cost', 'Cmtd R Eligible Cost',\n",
       "       'Orig R Months of Service', 'Cmtd R Months of Service',\n",
       "       'Orig R Annual Cost', 'Cmtd R Annual Cost', 'Orig NR Cost',\n",
       "       'Cmtd NR Cost', 'Orig NR Ineligible Cost', 'Cmtd NR Ineligible Cost',\n",
       "       'Orig NR Eligible Cost', 'Cmtd NR Eligible Cost', 'Orig Total Cost',\n",
       "       'Cmtd Total Cost', 'Orig Discount', 'Cmtd Discount',\n",
       "       'Orig Funding Request', 'Cmtd Funding Request', 'Orig FRN Service Type',\n",
       "       'Cmtd FRN Service Type', 'Orig 471 SSD', 'Cmtd 471 SSD', 'Wave Number',\n",
       "       'FCDL Date', 'FRN Committed Amount', 'Invoicing Mode', 'Funding Year_x',\n",
       "       'Service Category', 'Service Type', 'Function', 'Other Function',\n",
       "       'Entities', 'Quantity', 'Unit', 'Minimum Capacity', 'Maximum Capacity',\n",
       "       'Installation & Initial Configuration',\n",
       "       'Maintenance & Technical Support', 'Manufacturer', 'Other Manufacturer',\n",
       "       'Request for Proposal Identifier', 'Request for Proposal Documents',\n",
       "       'Request for Proposal Upload Date/Time', 'Form Version_x',\n",
       "       'Funding Year_y', 'Consulting Firm's Name',\n",
       "       'Consulting Firm's Registration Number', 'Consulting Firm's Phone',\n",
       "       'Consulting Firm's Phone Ext', 'Consulting Firm's Email',\n",
       "       'Consultant's Name', 'Consultant's Phone', 'Consultant's Phone Ext',\n",
       "       'Consultant's Email', 'Form Version_y'],\n",
       "      dtype='object')"
      ]
     },
     "execution_count": 49,
     "metadata": {},
     "output_type": "execute_result"
    }
   ],
   "source": [
    "final_plus_consultants.columns"
   ]
  },
  {
   "cell_type": "code",
   "execution_count": 64,
   "metadata": {},
   "outputs": [],
   "source": [
    "sub_important = ['Application Number','Orig Funding Request','Cmtd Funding Request', \"Consulting Firm's Name\",\"Consulting Firm's Email\", \"Applicant Type\", 'Applicant City', 'Applicant State',\"Orig Discount\", 'Cmtd Discount', \"Service Type\",'Function'] #full dataset above, preliminarily guess at important columns here \n",
    "\n",
    "\n"
   ]
  },
  {
   "cell_type": "code",
   "execution_count": 115,
   "metadata": {},
   "outputs": [
    {
     "name": "stderr",
     "output_type": "stream",
     "text": [
      "/Users/quinnunderriner/anaconda3/lib/python3.7/site-packages/ipykernel_launcher.py:2: SettingWithCopyWarning: \n",
      "A value is trying to be set on a copy of a slice from a DataFrame.\n",
      "Try using .loc[row_indexer,col_indexer] = value instead\n",
      "\n",
      "See the caveats in the documentation: http://pandas.pydata.org/pandas-docs/stable/indexing.html#indexing-view-versus-copy\n",
      "  \n",
      "/Users/quinnunderriner/anaconda3/lib/python3.7/site-packages/ipykernel_launcher.py:3: SettingWithCopyWarning: \n",
      "A value is trying to be set on a copy of a slice from a DataFrame.\n",
      "Try using .loc[row_indexer,col_indexer] = value instead\n",
      "\n",
      "See the caveats in the documentation: http://pandas.pydata.org/pandas-docs/stable/indexing.html#indexing-view-versus-copy\n",
      "  This is separate from the ipykernel package so we can avoid doing imports until\n"
     ]
    }
   ],
   "source": [
    "final_plus_consultants_small = final_plus_consultants[sub_important]\n",
    "final_plus_consultants_small[\"Orig Funding Request\"] = final_plus_consultants_small[\"Orig Funding Request\"].apply(lambda x: x.strip('$')).apply(lambda x: x.replace(',', '')).astype(float).astype(int)\n",
    "final_plus_consultants_small[\"Cmtd Funding Request\"] = final_plus_consultants_small[\"Cmtd Funding Request\"].apply(lambda x: x.strip('$')).apply(lambda x: x.replace(',', '')).astype(float).astype(int)\n"
   ]
  },
  {
   "cell_type": "code",
   "execution_count": 116,
   "metadata": {
    "scrolled": true
   },
   "outputs": [
    {
     "name": "stderr",
     "output_type": "stream",
     "text": [
      "/Users/quinnunderriner/anaconda3/lib/python3.7/site-packages/ipykernel_launcher.py:1: SettingWithCopyWarning: \n",
      "A value is trying to be set on a copy of a slice from a DataFrame.\n",
      "Try using .loc[row_indexer,col_indexer] = value instead\n",
      "\n",
      "See the caveats in the documentation: http://pandas.pydata.org/pandas-docs/stable/indexing.html#indexing-view-versus-copy\n",
      "  \"\"\"Entry point for launching an IPython kernel.\n"
     ]
    }
   ],
   "source": [
    "final_plus_consultants_small[\"funding_gap\"] = final_plus_consultants_small[\"Orig Funding Request\"] - final_plus_consultants_small[\"Cmtd Funding Request\"] \n",
    "\n"
   ]
  },
  {
   "cell_type": "code",
   "execution_count": 124,
   "metadata": {},
   "outputs": [],
   "source": [
    "final_plus_consultants_small.to_csv(\"small_for_use.csv\")"
   ]
  },
  {
   "cell_type": "code",
   "execution_count": 125,
   "metadata": {},
   "outputs": [
    {
     "data": {
      "text/plain": [
       "'/Users/quinnunderriner/Desktop/e-rate'"
      ]
     },
     "execution_count": 125,
     "metadata": {},
     "output_type": "execute_result"
    }
   ],
   "source": [
    "pwd"
   ]
  }
 ],
 "metadata": {
  "kernelspec": {
   "display_name": "Python 3",
   "language": "python",
   "name": "python3"
  },
  "language_info": {
   "codemirror_mode": {
    "name": "ipython",
    "version": 3
   },
   "file_extension": ".py",
   "mimetype": "text/x-python",
   "name": "python",
   "nbconvert_exporter": "python",
   "pygments_lexer": "ipython3",
   "version": "3.7.2"
  }
 },
 "nbformat": 4,
 "nbformat_minor": 2
}
